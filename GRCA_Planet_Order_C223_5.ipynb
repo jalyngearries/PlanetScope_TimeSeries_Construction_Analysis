{
  "nbformat": 4,
  "nbformat_minor": 0,
  "metadata": {
    "colab": {
      "provenance": [],
      "mount_file_id": "10VC67rBKhIdCPkaXxahF44pRWfL3BwR3",
      "authorship_tag": "ABX9TyMFHvcwXJyp+Hcq7QryD6Sx",
      "include_colab_link": true
    },
    "kernelspec": {
      "name": "python3",
      "display_name": "Python 3"
    },
    "language_info": {
      "name": "python"
    }
  },
  "cells": [
    {
      "cell_type": "markdown",
      "metadata": {
        "id": "view-in-github",
        "colab_type": "text"
      },
      "source": [
        "<a href=\"https://colab.research.google.com/github/jalyngearries/PlanetScope_TimeSeries_Construction_Analysis/blob/main/GRCA_Planet_Order_C223_5.ipynb\" target=\"_parent\"><img src=\"https://colab.research.google.com/assets/colab-badge.svg\" alt=\"Open In Colab\"/></a>"
      ]
    },
    {
      "cell_type": "markdown",
      "source": [
        "# **PlanetScope & Google Earth Engine Integration**\n",
        "\n",
        "### **Part 3:** Order Images with Planet Orders API\n",
        "\n",
        "Now that I've properly registered my Earth Engine cloud project, I'll use the EE API and Planet Orders API to order, clip, and import an image collection using image IDs that I manually selected in the Planet Explorer web interface.\n",
        "\n",
        "For this example, I am using the image AOI that I created in the Planet Explorer web app that I stored as a .geojson in Google Drive. You can also upload this file directly into the Google Colab environment. This is just one of 20 (plus) scripts I've written to order each of my image collections.\n",
        "  - *For my project, this is easiest because of the 'Find and Replace function in the easy-to-navigate Colab environment. Which also ensures I have very organized file paths and storage.*\n",
        "\n",
        "I'm using 223.5 Mile as the example site in this script. I store it as C223 because Python (and most languages) hate numerics at the beginning of a variable name.\n"
      ],
      "metadata": {
        "id": "3xJh2LCWVvzt"
      }
    },
    {
      "cell_type": "markdown",
      "source": [
        "### Step 1: Import Planet API & authenticate Planet account for Orders API"
      ],
      "metadata": {
        "id": "YE-jHZ3gmDfj"
      }
    },
    {
      "cell_type": "code",
      "source": [
        "## Import the Earth Engine API\n",
        "import ee\n",
        "\n",
        "## Importing other packages for ordering and delivery\n",
        "import json\n",
        "import os\n",
        "import pathlib\n",
        "import time\n",
        "import shapely\n",
        "import requests\n",
        "from google.colab import drive\n",
        "import asyncio\n",
        "\n",
        "## Install & import the Planet API\n",
        "!pip install planet\n",
        "import planet\n",
        "from planet import Session, DataClient, OrdersClient\n",
        "\n",
        "## Set up & authenticate session\n",
        "\n",
        "from getpass import getpass\n",
        "from planet import Auth\n",
        "api_key = getpass('Enter your API key:')\n",
        "\n",
        "auth = Auth.from_key(api_key)"
      ],
      "metadata": {
        "id": "tKi-uRoQSO_j",
        "colab": {
          "base_uri": "https://localhost:8080/"
        },
        "outputId": "d74edfd1-d9c3-485e-cd5a-c0e6919b17c0"
      },
      "execution_count": null,
      "outputs": [
        {
          "name": "stdout",
          "output_type": "stream",
          "text": [
            "Collecting planet\n",
            "  Downloading planet-2.10.0-py3-none-any.whl.metadata (5.4 kB)\n",
            "Requirement already satisfied: click>=8.0 in /usr/local/lib/python3.10/dist-packages (from planet) (8.1.7)\n",
            "Collecting geojson (from planet)\n",
            "  Downloading geojson-3.1.0-py3-none-any.whl.metadata (16 kB)\n",
            "Collecting httpx>=0.23.0 (from planet)\n",
            "  Downloading httpx-0.27.2-py3-none-any.whl.metadata (7.1 kB)\n",
            "Requirement already satisfied: jsonschema in /usr/local/lib/python3.10/dist-packages (from planet) (4.23.0)\n",
            "Requirement already satisfied: pyjwt>=2.1 in /usr/local/lib/python3.10/dist-packages (from planet) (2.9.0)\n",
            "Requirement already satisfied: tqdm>=4.56 in /usr/local/lib/python3.10/dist-packages (from planet) (4.66.5)\n",
            "Requirement already satisfied: typing-extensions in /usr/local/lib/python3.10/dist-packages (from planet) (4.12.2)\n",
            "Requirement already satisfied: anyio in /usr/local/lib/python3.10/dist-packages (from httpx>=0.23.0->planet) (3.7.1)\n",
            "Requirement already satisfied: certifi in /usr/local/lib/python3.10/dist-packages (from httpx>=0.23.0->planet) (2024.7.4)\n",
            "Collecting httpcore==1.* (from httpx>=0.23.0->planet)\n",
            "  Downloading httpcore-1.0.5-py3-none-any.whl.metadata (20 kB)\n",
            "Requirement already satisfied: idna in /usr/local/lib/python3.10/dist-packages (from httpx>=0.23.0->planet) (3.8)\n",
            "Requirement already satisfied: sniffio in /usr/local/lib/python3.10/dist-packages (from httpx>=0.23.0->planet) (1.3.1)\n",
            "Collecting h11<0.15,>=0.13 (from httpcore==1.*->httpx>=0.23.0->planet)\n",
            "  Downloading h11-0.14.0-py3-none-any.whl.metadata (8.2 kB)\n",
            "Requirement already satisfied: attrs>=22.2.0 in /usr/local/lib/python3.10/dist-packages (from jsonschema->planet) (24.2.0)\n",
            "Requirement already satisfied: jsonschema-specifications>=2023.03.6 in /usr/local/lib/python3.10/dist-packages (from jsonschema->planet) (2023.12.1)\n",
            "Requirement already satisfied: referencing>=0.28.4 in /usr/local/lib/python3.10/dist-packages (from jsonschema->planet) (0.35.1)\n",
            "Requirement already satisfied: rpds-py>=0.7.1 in /usr/local/lib/python3.10/dist-packages (from jsonschema->planet) (0.20.0)\n",
            "Requirement already satisfied: exceptiongroup in /usr/local/lib/python3.10/dist-packages (from anyio->httpx>=0.23.0->planet) (1.2.2)\n",
            "Downloading planet-2.10.0-py3-none-any.whl (82 kB)\n",
            "\u001b[2K   \u001b[90m━━━━━━━━━━━━━━━━━━━━━━━━━━━━━━━━━━━━━━━━\u001b[0m \u001b[32m82.7/82.7 kB\u001b[0m \u001b[31m1.4 MB/s\u001b[0m eta \u001b[36m0:00:00\u001b[0m\n",
            "\u001b[?25hDownloading httpx-0.27.2-py3-none-any.whl (76 kB)\n",
            "\u001b[2K   \u001b[90m━━━━━━━━━━━━━━━━━━━━━━━━━━━━━━━━━━━━━━━━\u001b[0m \u001b[32m76.4/76.4 kB\u001b[0m \u001b[31m4.6 MB/s\u001b[0m eta \u001b[36m0:00:00\u001b[0m\n",
            "\u001b[?25hDownloading httpcore-1.0.5-py3-none-any.whl (77 kB)\n",
            "\u001b[2K   \u001b[90m━━━━━━━━━━━━━━━━━━━━━━━━━━━━━━━━━━━━━━━━\u001b[0m \u001b[32m77.9/77.9 kB\u001b[0m \u001b[31m4.9 MB/s\u001b[0m eta \u001b[36m0:00:00\u001b[0m\n",
            "\u001b[?25hDownloading geojson-3.1.0-py3-none-any.whl (15 kB)\n",
            "Downloading h11-0.14.0-py3-none-any.whl (58 kB)\n",
            "\u001b[2K   \u001b[90m━━━━━━━━━━━━━━━━━━━━━━━━━━━━━━━━━━━━━━━━\u001b[0m \u001b[32m58.3/58.3 kB\u001b[0m \u001b[31m1.5 MB/s\u001b[0m eta \u001b[36m0:00:00\u001b[0m\n",
            "\u001b[?25hInstalling collected packages: h11, geojson, httpcore, httpx, planet\n",
            "Successfully installed geojson-3.1.0 h11-0.14.0 httpcore-1.0.5 httpx-0.27.2 planet-2.10.0\n",
            "Enter your API key:··········\n"
          ]
        }
      ]
    },
    {
      "cell_type": "markdown",
      "source": [
        "### Step 2: Authenticate Earth Engine in Python environment"
      ],
      "metadata": {
        "id": "arjDr9t2fyOd"
      }
    },
    {
      "cell_type": "code",
      "source": [
        "## Trigger authentication flow\n",
        "ee.Authenticate()\n",
        "\n",
        "## Initialize the library\n",
        "ee.Initialize(project='ee-jg3648')\n",
        "\n",
        "## (Optional) Mount Google Drive to Colab environment (where my AOIs are stored)\n",
        "drive.mount('/content/gdrive')"
      ],
      "metadata": {
        "id": "-ioRSICtV5wd",
        "colab": {
          "base_uri": "https://localhost:8080/"
        },
        "outputId": "8798a581-e0df-463f-fedd-447de3a7f6e7"
      },
      "execution_count": null,
      "outputs": [
        {
          "output_type": "stream",
          "name": "stdout",
          "text": [
            "Drive already mounted at /content/gdrive; to attempt to forcibly remount, call drive.mount(\"/content/gdrive\", force_remount=True).\n"
          ]
        }
      ]
    },
    {
      "cell_type": "markdown",
      "source": [
        "### Step 3: Define cloud delivery location for images"
      ],
      "metadata": {
        "id": "CPnnw6Gff7qT"
      }
    },
    {
      "cell_type": "code",
      "source": [
        "## Define a cloud desination configuration object (defining the destination to be GEE)\n",
        "cloud_config = planet.order_request.google_earth_engine(\n",
        "    project='ee-jg3648', collection='C223_imgcoll_8band')\n",
        "\n",
        "## Define delivery configuration\n",
        "delivery_config = planet.order_request.delivery(cloud_config=cloud_config)"
      ],
      "metadata": {
        "id": "NB4Ok8nTeAri"
      },
      "execution_count": null,
      "outputs": []
    },
    {
      "cell_type": "markdown",
      "source": [
        "### Step 4: Define AOI to clip images"
      ],
      "metadata": {
        "id": "P9WdrMrXoPsZ"
      }
    },
    {
      "cell_type": "code",
      "source": [
        "with open(\"/content/gdrive/MyDrive/NAU - PhD INF/Sites/223.5 - 223 Mile Camp AOI.geojson\") as f:\n",
        "  C223_json = json.load(f)\n",
        "\n",
        "C223_coordinates = C223_json['features'][0]['geometry']['coordinates'][0]\n",
        "\n",
        "print(C223_coordinates)\n"
      ],
      "metadata": {
        "colab": {
          "base_uri": "https://localhost:8080/"
        },
        "id": "4rsy2Lf0DBDW",
        "outputId": "53516ef7-cbe1-4abc-98b2-d10ea1eae063"
      },
      "execution_count": null,
      "outputs": [
        {
          "output_type": "stream",
          "name": "stdout",
          "text": [
            "[[-113.34723754, 35.78363304], [-113.33711391, 35.78363304], [-113.33711391, 35.79218227], [-113.34723754, 35.79218227], [-113.34723754, 35.78363304]]\n"
          ]
        }
      ]
    },
    {
      "cell_type": "code",
      "source": [
        "C223_AOI = {\n",
        "    \"type\":\"Polygon\",\n",
        "    \"coordinates\": [\n",
        "        [[-113.34723754, 35.78363304], [-113.33711391, 35.78363304], [-113.33711391, 35.79218227], [-113.34723754, 35.79218227], [-113.34723754, 35.78363304]]\n",
        "                    ]\n",
        "}"
      ],
      "metadata": {
        "id": "p3dnHuqVFdko"
      },
      "execution_count": null,
      "outputs": []
    },
    {
      "cell_type": "markdown",
      "source": [
        "### Step 5: Define images to order"
      ],
      "metadata": {
        "id": "ioxvph0wL8ko"
      }
    },
    {
      "cell_type": "code",
      "source": [
        "C223_images_8band = [\n",
        "    '20200814_173019_50_220b',\n",
        "    '20200915_173743_14_222f',\n",
        "    '20200928_173344_25_220b',\n",
        "    '20201014_173606_58_2271',\n",
        "    '20201116_173435_11_2257',\n",
        "    '20201215_173706_76_2441',\n",
        "    '20210114_182441_98_2307',\n",
        "    '20210208_174005_91_225a',\n",
        "    '20210315_173138_14_2460',\n",
        "    '20210415_173031_70_2439',\n",
        "    '20210516_174130_07_222f',\n",
        "    '20210614_172706_85_2459',\n",
        "    '20210714_173547_31_225a',\n",
        "    '20210819_172951_35_2448',\n",
        "    '20210921_172525_43_2420',\n",
        "    '20210927_172845_97_2445',\n",
        "    '20211014_172521_05_2453',\n",
        "    '20211117_172808_09_2464',\n",
        "    '20211215_173917_42_227e',\n",
        "    '20220109_173726_64_2264',\n",
        "    '20220213_175339_68_248e',\n",
        "    '20220323_173529_28_225a',\n",
        "    '20220417_175301_02_247c',\n",
        "    '20220516_175207_54_2480',\n",
        "    '20220617_175557_58_247e',\n",
        "    '20220711_173929_40_2262',\n",
        "    '20220824_174838_38_222f',\n",
        "    '20220918_175312_59_2495',\n",
        "    '20220923_175557_41_247f',\n",
        "    '20221018_175531_71_2474',\n",
        "    '20221116_173922_45_2251',\n",
        "    '20221217_175701_71_249a',\n",
        "    '20230106_175448_41_2492',\n",
        "    '20230216_175534_97_2481',\n",
        "    '20230316_175340_73_2488',\n",
        "    '20230421_175932_15_2484',\n",
        "    '20230426_180046_99_241c',\n",
        "    '20230515_174700_14_2251',\n",
        "    '20230617_175800_08_2480',\n",
        "    '20230716_175916_23_2488',\n",
        "    '20230813_173020_13_24c8',\n",
        "    '20230916_172434_36_2465',\n",
        "    '20230921_173004_63_24b9',\n",
        "    '20231015_173008_26_24a7',\n",
        "    '20231117_173031_27_24c7',\n",
        "    '20231214_173020_78_24b9',\n",
        "    '20240116_173254_23_242e',\n",
        "    '20240214_173241_70_24cc',\n",
        "    '20240313_173358_07_24b4',\n",
        "    '20240416_173116_27_24bb',\n",
        "    '20240425_173113_17_24b5',\n",
        "    '20240515_173603_29_24c7',\n",
        "    '20240615_173601_00_24c5',\n",
        "    '20240716_173903_27_24af',\n",
        "    '20240819_173605_66_2417'\n",
        "]\n"
      ],
      "metadata": {
        "id": "6Etgm6TWlP3N"
      },
      "execution_count": null,
      "outputs": []
    },
    {
      "cell_type": "code",
      "source": [
        "C223_images_4band = [\n",
        "    '20180114_174039_1008',\n",
        "    '20180206_174037_102f',\n",
        "    '20180316_174214_1032',\n",
        "    '20180413_174312_1042',\n",
        "    '20180515_174441_1014',\n",
        "    '20180617_174637_0f34',\n",
        "    '20180715_174632_1002',\n",
        "    '20180819_174810_1038',\n",
        "    '20180914_173750_104b',\n",
        "    '20181017_173251_1048',\n",
        "    '20181114_174935_1003',\n",
        "    '20181216_174645_0e2f',\n",
        "    '20190113_175214_103d',\n",
        "    '20190210_174602_0e20',\n",
        "    '20190318_175253_1035',\n",
        "    '20190424_175400_0f15',\n",
        "    '20190502_175542_0f42',\n",
        "    '20190513_175545_1040',\n",
        "    '20190613_175628_1021',\n",
        "    '20190714_174701_0e2f',\n",
        "    '20190814_174649_0e20',\n",
        "    '20190913_174715_0e3a',\n",
        "    '20191016_175801_0f17',\n",
        "    '20191112_175504_1027',\n",
        "    '20191210_175951_1011',\n",
        "    '20200115_175815_1012',\n",
        "    '20200215_175933_101f',\n",
        "    '20200328_175623_1006',\n",
        "    '20200418_175732_1032',\n",
        "    '20200516_175726_1010',\n",
        "    '20200615_175903_0f28',\n",
        "    '20200715_175818_1005'\n",
        "]\n"
      ],
      "metadata": {
        "id": "ed-KAns7QRRi"
      },
      "execution_count": null,
      "outputs": []
    },
    {
      "cell_type": "markdown",
      "source": [
        "### Step 6: Build your order request"
      ],
      "metadata": {
        "id": "QzbwfBN3uMe5"
      }
    },
    {
      "cell_type": "code",
      "source": [
        "from planet import order_request\n",
        "\n",
        "item_ids = C223_images_8band\n",
        "\n",
        "products = [\n",
        "    order_request.product(item_ids, 'analytic_8b_sr_udm2', 'PSScene')\n",
        "]\n",
        "\n",
        "tools = [\n",
        "    order_request.reproject_tool(projection='EPSG:4326', kernel='cubic'),\n",
        "    order_request.clip_tool(C223_AOI)\n",
        "]\n",
        "request = order_request.build_request(\n",
        "    'C223_8band_images', products=products, tools=tools, delivery=delivery_config,\n",
        ")"
      ],
      "metadata": {
        "id": "eNLrksjB-cUr"
      },
      "execution_count": null,
      "outputs": []
    },
    {
      "cell_type": "markdown",
      "source": [
        "### Step 7: Create order request"
      ],
      "metadata": {
        "id": "gQOSg75w_YQ4"
      }
    },
    {
      "cell_type": "code",
      "source": [
        "from planet import Session, OrdersClient\n",
        "\n",
        "# an async Orders client to request order creation\n",
        "async def main():\n",
        "  async with Session(auth=auth) as sess:\n",
        "    cl = OrdersClient(sess)\n",
        "    order = await cl.create_order(request)\n",
        "\n",
        "# async magic to remember: \"async def\" to create a coroutine, then \"await\" to make it run\n",
        "await main()"
      ],
      "metadata": {
        "id": "Bzsb54Ts_XAw"
      },
      "execution_count": null,
      "outputs": []
    },
    {
      "cell_type": "code",
      "source": [
        "\n",
        "        // IMAGE COLLECTION -->  SITE HEALTH DATA\n",
        "\n",
        "// import image collections\n",
        "  // 4-Band\n",
        "var C223_imgcoll_old = ee.ImageCollection('projects/ee-jg3648/assets/C223_imgcoll_4band')\n",
        "  // 8-Band\n",
        "var C223_imgcoll = ee.ImageCollection('projects/ee-jg3648/assets/C223_collection')\n",
        "\n",
        "// import ROIs\n",
        "var C223_TxPoly_bound_fc = ee.FeatureCollection('projects/ee-jg3648/assets/Polygons/New/C223_TxPoly')\n",
        "\n",
        "// convert ROI to geometry\n",
        "var C223_TxPoly = C223_TxPoly_bound_fc.first().geometry();\n",
        "\n",
        "// define quality bands\n",
        "var qualitybands = ['Q1', 'Q2', 'Q3', 'Q4', 'Q5', 'Q6', 'Q7', 'Q8']\n",
        "var qualitybands2 = ['Q1', 'Q2', 'Q3', 'Q4']\n",
        "\n",
        "// define function to remove bands\n",
        "var selectBands = function(image){\n",
        "  return image.select(image.bandNames().removeAll(qualitybands));};\n",
        "var selectBands2 = function(image){\n",
        "  return image.select(image.bandNames().removeAll(qualitybands2));};\n",
        "\n",
        "// apply function to image collection\n",
        "var C223_imgcoll = C223_imgcoll.map(selectBands)\n",
        "var C223_imgcoll_old = C223_imgcoll_old.map(selectBands)\n",
        "\n",
        "// define band names for SuperDove sensors\n",
        "var bands = {'CoastalBlue': 'B1', 'Blue': 'B2', 'GreenI': 'B3', 'Green': 'B4', 'Yellow': 'B5', 'Red': 'B6', 'RedEdge': 'B7', 'NIR': 'B8'};\n",
        "var bands2 = {'Blue':'B1', 'Green': 'B2', 'Red': 'B3', 'NIR': 'B4'};\n",
        "\n",
        "// define vegetation index function parameters\n",
        "/**\n",
        " * Function to calculate and return only the custom vegetation index band for each image in a collection.\n",
        " * @param {ee.ImageCollection} imageCollection - The input image collection.\n",
        " * @param {String} expression - The formula to compute the index, using band tags (e.g., 'NIR', 'Red').\n",
        " * @param {Object} bandNames - Object mapping generic band tags to actual band names in the image.\n",
        " * @returns {ee.ImageCollection} - The image collection with only the new index band in each image.\n",
        " */\n",
        "\n",
        " // create adaptable function to compute the index for each image in a collection\n",
        "function calculateIndexCollection(imageCollection, expression, bandNames) {\n",
        "  return imageCollection.map(function(image) {\n",
        "    var expr = expression.replace(/(B1|B2|B3|B4|B5|B6|B6Edge|B8)/g, function(match) {\n",
        "      return bandNames[match];\n",
        "\n",
        "    });\n",
        "var indexImage = image.expression(expr, {\n",
        "  'CoastalBlue': image.select(bandNames['CoastalBlue']),\n",
        "  'Blue': image.select(bandNames['Blue']),\n",
        "  'GreenI': image.select(bandNames['GreenI']),\n",
        "  'Green': image.select(bandNames['Green']),\n",
        "  'Yellow': image.select(bandNames['Yellow']),\n",
        "  'Red': image.select(bandNames['Red']),\n",
        "  'RedEdge': image.select(bandNames['RedEdge']),\n",
        "  'NIR': image.select(bandNames['NIR'])\n",
        "\n",
        "}).rename('index');\n",
        "return indexImage;  // Returning only the index band\n",
        "  });\n",
        "}\n",
        "\n",
        "function calculateIndexCollection2(imageCollection, expression, bandNames) {\n",
        "  return imageCollection.map(function(image) {\n",
        "    var expr = expression.replace(/(B1|B2|B3|B4)/g, function(match) {\n",
        "      return bandNames[match];\n",
        "\n",
        "    });\n",
        "var indexImage = image.expression(expr, {\n",
        "  'Blue': image.select(bands2['Blue']),\n",
        "  'Green': image.select(bands2['Green']),\n",
        "  'Red': image.select(bands2['Red']),\n",
        "  'NIR': image.select(bands2['NIR'])\n",
        "\n",
        "}).rename('index');\n",
        "return indexImage;  // Returning only the index band\n",
        "  });\n",
        "}\n",
        "\n",
        "// define vegetation index band math expression\n",
        "var MSAVI_exp = '0.5 * (2 * NIR + 1 - sqrt((2 * NIR + 1) ** 2 - 8 * (NIR - Red)))';\n",
        "\n",
        "// apply veg index calculation function to image collection\n",
        "var C223_MSAVI_imgcoll_old = calculateIndexCollection(C223_imgcoll_old, MSAVI_exp, bands2);\n",
        "var C223_MSAVI_imgcoll = calculateIndexCollection(C223_imgcoll, MSAVI_exp, bands);\n",
        "\n",
        "// merge image collections into multi-band images\n",
        "var C223_MSAVI_old = C223_MSAVI_imgcoll_old.toBands();\n",
        "var C223_MSAVI = C223_MSAVI_imgcoll.toBands();\n",
        "\n",
        "// define function to change band names to dates\n",
        "function renameBandsByDate(image) {\n",
        "  var bandNames = image.bandNames();\n",
        "  var newBandNames = bandNames.map(function(name) {\n",
        "    var parts = ee.String(name).split('_');\n",
        "    return parts.get(0);\n",
        "  });\n",
        "  return image.rename(newBandNames);\n",
        "}\n",
        "\n",
        "// apply function to change band names to dates\n",
        "var C223_MSAVI_old = renameBandsByDate(C223_MSAVI_old);\n",
        "var C223_MSAVI = renameBandsByDate(C223_MSAVI)\n",
        "\n",
        "// combine MSAVI image stacks for full time series\n",
        "var C223_MSAVI = ee.Image.cat(C223_MSAVI_old, C223_MSAVI)\n",
        "\n",
        "// print number of image dates in time series\n",
        "var numBands = C223_MSAVI.bandNames().size();\n",
        "print('Number of Image Dates in Time Series:', numBands);\n",
        "\n",
        "// sample values from image collection inside tx polygon geometry\n",
        "var C223_TxPoly_MSAVI = C223_MSAVI.sample({region: C223_TxPoly, scale:3, geometries:true})\n",
        "\n",
        "/*\n",
        "// export table as CSV to Drive\n",
        "Export.table.toDrive({\n",
        "  collection: C223_TxPoly_MSAVI,\n",
        "  description: 'C223_MSAVI_TimeSeries',\n",
        "  fileFormat: 'CSV',\n",
        "  folder:'GEE Exports'\n",
        "})\n",
        "*/\n",
        "\n",
        "          // VISUALIZATION\n",
        "\n",
        "// viz parameters\n",
        "  // polygons\n",
        "var outlineStyle = {color: 'red', width: 1, fillColor: '00000000'};\n",
        "var C223_TxPoly_bound_fc = C223_TxPoly_bound_fc.style(outlineStyle);\n",
        "\n",
        "  // map layers\n",
        "var visparam_timeseries = {\"opacity\":0.75,\"bands\":[\"20190424\"],\"min\":-0.5,\"max\":0.8,\"palette\":[\"f70000\",\"f9ff00\",\"0ac800\"]};\n",
        "\n",
        "// adding to map\n",
        "Map.addLayer(C223_MSAVI, visparam_timeseries, 'MSAVI Time Series')\n",
        "Map.addLayer(C223_TxPoly_bound_fc, {}, 'Tx Polygon')\n",
        "\n",
        "// map parameters\n",
        "Map.setOptions('SATELLITE')\n",
        "Map.centerObject(C223_MSAVI, 15)\n"
      ],
      "metadata": {
        "id": "HhHh8LZznHFd"
      },
      "execution_count": null,
      "outputs": []
    },
    {
      "cell_type": "code",
      "source": [],
      "metadata": {
        "id": "x0-5hZ9gURsn"
      },
      "execution_count": null,
      "outputs": []
    }
  ]
}